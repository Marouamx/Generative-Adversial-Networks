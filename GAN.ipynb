{
  "cells": [
    {
      "cell_type": "markdown",
      "metadata": {
        "id": "icTcgsxRHeT7"
      },
      "source": [
        "# A GAN to generate cows and horses images"
      ]
    },
    {
      "cell_type": "markdown",
      "metadata": {
        "id": "tZjtGR7q5-Cv"
      },
      "source": [
        "This is just for the GPU not to be disabled by google"
      ]
    },
    {
      "cell_type": "code",
      "execution_count": null,
      "metadata": {
        "id": "WJJXTqDTfbWJ"
      },
      "outputs": [],
      "source": [
        "!sudo apt-get remove libtcmalloc-minimal4\n",
        "!sudo apt-get update\n",
        "!sudo apt-get install libtcmalloc-minimal4"
      ]
    },
    {
      "cell_type": "code",
      "execution_count": null,
      "metadata": {
        "colab": {
          "base_uri": "https://localhost:8080/"
        },
        "id": "7A3P-eC93szg",
        "outputId": "94cb859c-8af2-4823-d9da-938622708a2b"
      },
      "outputs": [
        {
          "name": "stdout",
          "output_type": "stream",
          "text": [
            "Drive already mounted at /content/drive; to attempt to forcibly remount, call drive.mount(\"/content/drive\", force_remount=True).\n"
          ]
        }
      ],
      "source": [
        "from google.colab import drive\n",
        "\n",
        "drive.mount('/content/drive')"
      ]
    },
    {
      "cell_type": "code",
      "execution_count": null,
      "metadata": {
        "id": "Zc7pomso35F7"
      },
      "outputs": [],
      "source": [
        "import tensorflow as tf\n",
        "import glob\n",
        "import matplotlib.pyplot as plt\n",
        "import numpy as np\n",
        "import os\n",
        "import PIL\n",
        "from tensorflow.keras import layers\n",
        "import time\n",
        "from IPython import display"
      ]
    },
    {
      "cell_type": "markdown",
      "metadata": {
        "id": "tD16bs1QH2oC"
      },
      "source": [
        "Setting Variables and Hyperparameters"
      ]
    },
    {
      "cell_type": "code",
      "execution_count": null,
      "metadata": {
        "id": "U5A_Rukj38mV"
      },
      "outputs": [],
      "source": [
        "path = \"/content/drive/MyDrive/Newdata/Train\"\n",
        "\n",
        "noise_dim = 100\n",
        "num_examples_to_generate = 4\n",
        "\n",
        "BUFFER_SIZE = 82\n",
        "BATCH_SIZE = 10\n",
        "\n",
        "\n",
        "global g_loss\n",
        "global d_loss\n",
        "g_loss=[]\n",
        "d_loss=[]"
      ]
    },
    {
      "cell_type": "markdown",
      "metadata": {
        "id": "MsHLPquxIJC0"
      },
      "source": [
        "\n",
        "\n",
        "1.   Importing the dataset from the path with shuffling and resizing the images to 70*70px \n",
        "2.   transforming images to array lists\n",
        "\n"
      ]
    },
    {
      "cell_type": "code",
      "execution_count": null,
      "metadata": {
        "colab": {
          "base_uri": "https://localhost:8080/"
        },
        "id": "r8ttJ_-i_Cgp",
        "outputId": "d51a3f92-d850-4b89-fa4c-2b9c1b4acd4a"
      },
      "outputs": [
        {
          "name": "stdout",
          "output_type": "stream",
          "text": [
            "Found 82 files belonging to 2 classes.\n"
          ]
        }
      ],
      "source": [
        "train_dataset = tf.keras.preprocessing.image_dataset_from_directory(\n",
        "path,\n",
        "  seed=123,\n",
        "  validation_split=0,\n",
        "  image_size=(70, 70),\n",
        "  color_mode=\"rgb\",\n",
        "  shuffle=True,\n",
        "  batch_size=1) #batch size is set to one as we will reorganize the dataset to tensorflow slices later\n",
        "\n",
        "\n",
        "train_images_array = []\n",
        "for images, _ in train_dataset:\n",
        "    for i in range(len(images)):\n",
        "      train_images_array.append(images[i])"
      ]
    },
    {
      "cell_type": "markdown",
      "metadata": {
        "id": "ZhNY-5ZxI5WQ"
      },
      "source": [
        "Transforming images to numpy arrays then Normalize the images to [-1, 1]"
      ]
    },
    {
      "cell_type": "code",
      "execution_count": null,
      "metadata": {
        "id": "nd62a-KV4lN3"
      },
      "outputs": [],
      "source": [
        "train_images = np.array(train_images_array)\n",
        "train_images = train_images.reshape(train_images.shape[0],70,70,3).astype('float32')\n",
        "train_images = (train_images - 127.5) / 127.5  "
      ]
    },
    {
      "cell_type": "markdown",
      "metadata": {
        "id": "_NY60nw-JDrO"
      },
      "source": [
        "here we batch and shuffle the data to be fed to the training loop later"
      ]
    },
    {
      "cell_type": "code",
      "execution_count": null,
      "metadata": {
        "id": "Iacq0Oy748CG"
      },
      "outputs": [],
      "source": [
        "dataset_ = tf.data.Dataset.from_tensor_slices(train_images).shuffle(BUFFER_SIZE).batch(BATCH_SIZE)"
      ]
    },
    {
      "cell_type": "markdown",
      "metadata": {
        "id": "0mGR89bSJMhZ"
      },
      "source": [
        "The generator model takes a random vector, dense it to 7 * 7 *256 then feed it the next layer.\n",
        "At the end we will end up with 70 * 70 *3 images"
      ]
    },
    {
      "cell_type": "code",
      "execution_count": null,
      "metadata": {
        "colab": {
          "base_uri": "https://localhost:8080/"
        },
        "id": "Of4GWxNI5BVI",
        "outputId": "7bb10f0e-413f-468b-8786-e1e05cde9d98"
      },
      "outputs": [
        {
          "name": "stdout",
          "output_type": "stream",
          "text": [
            "(None, 70, 70, 3)\n",
            "Model: \"sequential_6\"\n",
            "_________________________________________________________________\n",
            " Layer (type)                Output Shape              Param #   \n",
            "=================================================================\n",
            " dense_6 (Dense)             (None, 12544)             1254400   \n",
            "                                                                 \n",
            " batch_normalization_9 (Batc  (None, 12544)            50176     \n",
            " hNormalization)                                                 \n",
            "                                                                 \n",
            " leaky_re_lu_18 (LeakyReLU)  (None, 12544)             0         \n",
            "                                                                 \n",
            " reshape_3 (Reshape)         (None, 7, 7, 256)         0         \n",
            "                                                                 \n",
            " conv2d_transpose_9 (Conv2DT  (None, 7, 7, 128)        819200    \n",
            " ranspose)                                                       \n",
            "                                                                 \n",
            " batch_normalization_10 (Bat  (None, 7, 7, 128)        512       \n",
            " chNormalization)                                                \n",
            "                                                                 \n",
            " leaky_re_lu_19 (LeakyReLU)  (None, 7, 7, 128)         0         \n",
            "                                                                 \n",
            " conv2d_transpose_10 (Conv2D  (None, 14, 14, 64)       204800    \n",
            " Transpose)                                                      \n",
            "                                                                 \n",
            " batch_normalization_11 (Bat  (None, 14, 14, 64)       256       \n",
            " chNormalization)                                                \n",
            "                                                                 \n",
            " leaky_re_lu_20 (LeakyReLU)  (None, 14, 14, 64)        0         \n",
            "                                                                 \n",
            " conv2d_transpose_11 (Conv2D  (None, 70, 70, 3)        76800     \n",
            " Transpose)                                                      \n",
            "                                                                 \n",
            "=================================================================\n",
            "Total params: 2,406,144\n",
            "Trainable params: 2,380,672\n",
            "Non-trainable params: 25,472\n",
            "_________________________________________________________________\n"
          ]
        }
      ],
      "source": [
        "def make_generator_model():\n",
        "    model = tf.keras.Sequential()\n",
        "    model.add(layers.Dense(7*7*256, use_bias=False, input_shape=(100,)))\n",
        "    model.add(layers.BatchNormalization())\n",
        "    model.add(layers.LeakyReLU())\n",
        "\n",
        "    model.add(layers.Reshape((7, 7, 256)))\n",
        "    assert model.output_shape == (None, 7, 7, 256)  # Note: None is the batch size\n",
        "\n",
        "    model.add(layers.Conv2DTranspose(128, (5, 5), strides=(1, 1), padding='same', use_bias=False))\n",
        "    assert model.output_shape == (None, 7, 7, 128)\n",
        "    model.add(layers.BatchNormalization())\n",
        "    model.add(layers.LeakyReLU())\n",
        "\n",
        "    model.add(layers.Conv2DTranspose(64, (5, 5), strides=(2, 2), padding='same', use_bias=False))\n",
        "    assert model.output_shape == (None, 14, 14, 64)\n",
        "    model.add(layers.BatchNormalization())\n",
        "    model.add(layers.LeakyReLU())\n",
        "\n",
        "    model.add(layers.Conv2DTranspose(3, (20, 20), strides=(5, 5), padding='same', use_bias=False, activation='tanh'))\n",
        "    print(model.output_shape)\n",
        "    assert model.output_shape == (None, 70, 70, 3)\n",
        "    return model\n",
        "\n",
        "generator = make_generator_model()\n",
        "\n",
        "generator.summary()"
      ]
    },
    {
      "cell_type": "markdown",
      "metadata": {
        "id": "sDfBV86SJ83R"
      },
      "source": [
        "Check the generator by feeding it with a random vector, training is set to false as this is just for showcasing "
      ]
    },
    {
      "cell_type": "code",
      "execution_count": null,
      "metadata": {
        "colab": {
          "base_uri": "https://localhost:8080/",
          "height": 285
        },
        "id": "80EPprv_5Him",
        "outputId": "eda8e3ff-d9cc-4fc2-a88f-09c7fdc54a53"
      },
      "outputs": [
        {
          "data": {
            "text/plain": [
              "<matplotlib.image.AxesImage at 0x7f885c606790>"
            ]
          },
          "execution_count": 65,
          "metadata": {},
          "output_type": "execute_result"
        },
        {
          "data": {
            "image/png": "[encoded data removed]",
            "text/plain": [
              "<Figure size 432x288 with 1 Axes>"
            ]
          },
          "metadata": {},
          "output_type": "display_data"
        }
      ],
      "source": [
        "noise = tf.random.normal([1, 100])\n",
        "generated_image = generator(noise, training=False)\n",
        "\n",
        "plt.imshow(generated_image[0, :, :, 0])"
      ]
    },
    {
      "cell_type": "markdown",
      "metadata": {
        "id": "HowhtIChKQT-"
      },
      "source": [
        "The discriminator model is chosen to be a simple model as we dont want it to overperform the generator. "
      ]
    },
    {
      "cell_type": "code",
      "execution_count": null,
      "metadata": {
        "colab": {
          "base_uri": "https://localhost:8080/"
        },
        "id": "vvAxjVQz5KMO",
        "outputId": "c9a1fbf1-7669-4f18-eb4d-f240d950edd5"
      },
      "outputs": [
        {
          "name": "stdout",
          "output_type": "stream",
          "text": [
            "Model: \"sequential_7\"\n",
            "_________________________________________________________________\n",
            " Layer (type)                Output Shape              Param #   \n",
            "=================================================================\n",
            " conv2d_9 (Conv2D)           (None, 35, 35, 64)        19264     \n",
            "                                                                 \n",
            " leaky_re_lu_21 (LeakyReLU)  (None, 35, 35, 64)        0         \n",
            "                                                                 \n",
            " dropout_9 (Dropout)         (None, 35, 35, 64)        0         \n",
            "                                                                 \n",
            " conv2d_10 (Conv2D)          (None, 18, 18, 128)       204928    \n",
            "                                                                 \n",
            " leaky_re_lu_22 (LeakyReLU)  (None, 18, 18, 128)       0         \n",
            "                                                                 \n",
            " dropout_10 (Dropout)        (None, 18, 18, 128)       0         \n",
            "                                                                 \n",
            " conv2d_11 (Conv2D)          (None, 9, 9, 256)         819456    \n",
            "                                                                 \n",
            " leaky_re_lu_23 (LeakyReLU)  (None, 9, 9, 256)         0         \n",
            "                                                                 \n",
            " dropout_11 (Dropout)        (None, 9, 9, 256)         0         \n",
            "                                                                 \n",
            " flatten_3 (Flatten)         (None, 20736)             0         \n",
            "                                                                 \n",
            " dense_7 (Dense)             (None, 1)                 20737     \n",
            "                                                                 \n",
            "=================================================================\n",
            "Total params: 1,064,385\n",
            "Trainable params: 1,064,385\n",
            "Non-trainable params: 0\n",
            "_________________________________________________________________\n"
          ]
        }
      ],
      "source": [
        "def make_discriminator_model():\n",
        "    model = tf.keras.Sequential()\n",
        "    model.add(layers.Conv2D(64, (10, 10), strides=(2, 2), padding='same', input_shape=[70, 70, 3]))\n",
        "    model.add(layers.LeakyReLU())\n",
        "    model.add(layers.Dropout(0.3))\n",
        "\n",
        "    model.add(layers.Conv2D(128, (5, 5), strides=(2, 2), padding='same', input_shape=[70, 70, 3]))\n",
        "    model.add(layers.LeakyReLU())\n",
        "    model.add(layers.Dropout(0.3))\n",
        "\n",
        "    model.add(layers.Conv2D(256, (5, 5), strides=(2, 2), padding='same', input_shape=[70, 70, 3]))\n",
        "    model.add(layers.LeakyReLU())\n",
        "    model.add(layers.Dropout(0.3))\n",
        "\n",
        "    model.add(layers.Flatten())\n",
        "    model.add(layers.Dense(1))\n",
        "\n",
        "    return model\n",
        "\n",
        "discriminator = make_discriminator_model()\n",
        "\n",
        "discriminator.summary()"
      ]
    },
    {
      "cell_type": "markdown",
      "metadata": {
        "id": "riia3W1BKmKe"
      },
      "source": [
        "Check the discriminator by feeding it with the last generated image"
      ]
    },
    {
      "cell_type": "code",
      "execution_count": null,
      "metadata": {
        "colab": {
          "base_uri": "https://localhost:8080/"
        },
        "id": "ItftbcUv5TAo",
        "outputId": "6762b092-29a3-4523-f3d7-6a7e6729fb76"
      },
      "outputs": [
        {
          "name": "stdout",
          "output_type": "stream",
          "text": [
            "tf.Tensor([[0.00045495]], shape=(1, 1), dtype=float32)\n"
          ]
        }
      ],
      "source": [
        "decision = discriminator(generated_image)\n",
        "print(decision)"
      ]
    },
    {
      "cell_type": "markdown",
      "metadata": {
        "id": "4oYPuZYfMdG4"
      },
      "source": [
        "As the loss function: Binary Cross entropy is proven to be the best in classifier problems thus it is chosen \n",
        "As the optimizer: Adam with epsilon of about 1e-4 is choosed.\n",
        "For it (1e-2) diverged and gave loss of about (1e6), For (1e-7) weight update was very slow so (1e-4) is chosen.\n",
        "\n",
        "Discriminator loss depends on both the real and the generated images and it takes the cross entropy of both to get the total loss "
      ]
    },
    {
      "cell_type": "code",
      "execution_count": null,
      "metadata": {
        "id": "B7CVjCM75b28"
      },
      "outputs": [],
      "source": [
        "cross_entropy = tf.keras.losses.BinaryCrossentropy(from_logits=True)\n",
        "\n",
        "def discriminator_loss(real_output, fake_output):\n",
        "    real_loss = cross_entropy(tf.ones_like(real_output), real_output)\n",
        "    fake_loss = cross_entropy(tf.zeros_like(fake_output), fake_output)\n",
        "    total_loss = real_loss + fake_loss\n",
        "    return total_loss\n",
        "\n",
        "def generator_loss(fake_output):\n",
        "    return cross_entropy(tf.ones_like(fake_output), fake_output)\n",
        "\n",
        "generator_optimizer = tf.keras.optimizers.Adam(1e-4)\n",
        "discriminator_optimizer = tf.keras.optimizers.Adam(1e-4)"
      ]
    },
    {
      "cell_type": "markdown",
      "metadata": {
        "id": "fM7b7Uw3NPb6"
      },
      "source": [
        "seed is fixed here so that we can reuse it over time in the image display allong the training and see the progress as GIF"
      ]
    },
    {
      "cell_type": "code",
      "execution_count": null,
      "metadata": {
        "id": "zCRJ5Vxe5q9F"
      },
      "outputs": [],
      "source": [
        "seed = tf.random.normal([num_examples_to_generate, noise_dim])"
      ]
    },
    {
      "cell_type": "markdown",
      "metadata": {
        "id": "ML3aRQ9sNmc4"
      },
      "source": [
        "At each epoch, we want to see the progress so we use this to plot it and produce a GIF"
      ]
    },
    {
      "cell_type": "code",
      "execution_count": null,
      "metadata": {
        "id": "OcryW6HO5uaB"
      },
      "outputs": [],
      "source": [
        "def generate_and_save_images(model, epoch, test_input):\n",
        "\n",
        "  predictions = model(test_input, training=False)\n",
        "\n",
        "  fig = plt.figure(figsize=(8, 8))\n",
        "\n",
        "  for i in range(predictions.shape[0]):\n",
        "      plt.subplot(2, 2, i+1)\n",
        "      plt.imshow((predictions[i] + 1) / 2)\n",
        "\n",
        "      plt.axis('off')\n",
        "\n",
        "  plt.savefig('image_at_epoch_{:04d}.png'.format(epoch))\n",
        "\n",
        "  plt.show()"
      ]
    },
    {
      "cell_type": "markdown",
      "metadata": {
        "id": "Y_W7f3RMN5i2"
      },
      "source": [
        "Takes a batch of images at once and train it by getting the generator and discriminator loss then applying the optimizer and updates the wieghts"
      ]
    },
    {
      "cell_type": "code",
      "execution_count": null,
      "metadata": {
        "id": "4MYjDwtv5xMr"
      },
      "outputs": [],
      "source": [
        "@tf.function\n",
        "def train_step(images):\n",
        "    noise = tf.random.normal([BATCH_SIZE, noise_dim])\n",
        "\n",
        "    with tf.GradientTape() as gen_tape, tf.GradientTape() as disc_tape:\n",
        "      generated_images = generator(noise, training=True)\n",
        "\n",
        "      real_output = discriminator(images, training=True)\n",
        "      fake_output = discriminator(generated_images, training=True)\n",
        "\n",
        "      gen_loss = generator_loss(fake_output)\n",
        "      disc_loss = discriminator_loss(real_output, fake_output)\n",
        "\n",
        "    gradients_of_generator = gen_tape.gradient(gen_loss, generator.trainable_variables)\n",
        "    gradients_of_discriminator = disc_tape.gradient(disc_loss, discriminator.trainable_variables)\n",
        "\n",
        "    generator_optimizer.apply_gradients(zip(gradients_of_generator, generator.trainable_variables))\n",
        "    discriminator_optimizer.apply_gradients(zip(gradients_of_discriminator, discriminator.trainable_variables))\n",
        "\n",
        "    return gen_loss,disc_loss "
      ]
    },
    {
      "cell_type": "markdown",
      "metadata": {
        "id": "TJdzF7pTPdjb"
      },
      "source": [
        "Here is the main loop, where we call the train step function for a batch of images get the losses to plot them. \n",
        "Repeat this n number of epochs while plotting GIF at each epoch "
      ]
    },
    {
      "cell_type": "code",
      "execution_count": null,
      "metadata": {
        "id": "UZZ0TTuO5ydr"
      },
      "outputs": [],
      "source": [
        "def train(dataset, epochs):\n",
        "  for epoch in range(epochs):\n",
        "    start = time.time()\n",
        "  \n",
        "    for image_batch in dataset:\n",
        "      [g,d] = train_step(image_batch)\n",
        "      print(\"g_loss: \",g)\n",
        "      print(\"d_loss: \",d)\n",
        "      g_loss.append(g)\n",
        "      d_loss.append(d)\n",
        "      \n",
        "    # Produce images for the GIF as you go\n",
        "    display.clear_output(wait=True)\n",
        "    generate_and_save_images(generator,\n",
        "                             epoch + 1,\n",
        "                             seed)\n",
        "\n",
        "\n",
        "    print ('Time for epoch {} is {} sec'.format(epoch + 1, time.time()-start))\n",
        "\n",
        "  # Generate after the final epoch\n",
        "  display.clear_output(wait=True)\n",
        "  generate_and_save_images(generator,\n",
        "                          epochs,\n",
        "                           seed)\n"
      ]
    },
    {
      "cell_type": "code",
      "execution_count": null,
      "metadata": {
        "colab": {
          "background_save": true
        },
        "id": "Qu_XW_1M51TA"
      },
      "outputs": [],
      "source": [
        "train(dataset_, 2000)"
      ]
    },
    {
      "cell_type": "markdown",
      "metadata": {
        "id": "GXdRhRlMQVVw"
      },
      "source": [
        "check that the loss list is appending correctly"
      ]
    },
    {
      "cell_type": "code",
      "execution_count": null,
      "metadata": {
        "colab": {
          "background_save": true
        },
        "id": "nS4xwWJPkqNw"
      },
      "outputs": [],
      "source": [
        "len(g_loss)"
      ]
    },
    {
      "cell_type": "markdown",
      "metadata": {
        "id": "xoQSlT9Dkp5D"
      },
      "source": [
        "Plot the loss of the generator and discriminator"
      ]
    },
    {
      "cell_type": "code",
      "execution_count": null,
      "metadata": {
        "colab": {
          "background_save": true
        },
        "id": "T22a22598V-L"
      },
      "outputs": [],
      "source": [
        "plt.figure(figsize=(10,5))\n",
        "plt.title(\"Generator and Discriminator Loss During Training\")\n",
        "plt.plot(g_loss,label=\"G\")\n",
        "plt.plot(d_loss,label=\"D\")\n",
        "plt.xlabel(\"iterations\")\n",
        "plt.ylabel(\"Loss\")\n",
        "plt.legend()\n",
        "plt.show()"
      ]
    },
    {
      "cell_type": "markdown",
      "metadata": {
        "id": "5D40LwnHQjSo"
      },
      "source": [
        "Afer the traing process we want to generate 36 images from the GAN model, save them to drive and plot them"
      ]
    },
    {
      "cell_type": "code",
      "execution_count": null,
      "metadata": {
        "colab": {
          "background_save": true
        },
        "id": "uvvZ23wk53K2"
      },
      "outputs": [],
      "source": [
        "from datetime import datetime\n",
        "\n",
        "i = 0\n",
        "plt.figure(figsize=(10,10))\n",
        "\n",
        "while i < 36:\n",
        "    i += 1\n",
        "    noise = tf.random.normal([1, 100])\n",
        "    generated_image = generator(noise, training=False)\n",
        "    plt.subplots_adjust(bottom = 0)\n",
        "    plt.subplots_adjust(top = 1)\n",
        "    plt.subplots_adjust(right = 1)\n",
        "    plt.subplots_adjust(left = 0)\n",
        "    plt.subplot(6, 6, i+1)\n",
        "    plt.axis('off')\n",
        "    plt.imshow((generated_image[0] + 1) / 2)\n",
        "\n",
        "    t = datetime.utcnow().__format__('%Y%m%d%H%M%S')\n",
        "    plt.savefig(\"/content/drive/MyDrive/Images/\" + t + '_' + str(i) + '.png',bbox_inches='tight',pad_inches=0)"
      ]
    },
    {
      "cell_type": "code",
      "execution_count": null,
      "metadata": {
        "colab": {
          "background_save": true
        },
        "id": "41NrABXBAQsG"
      },
      "outputs": [],
      "source": [
        "#Save this notebook to pdf\n",
        "!wget -nc https://raw.githubusercontent.com/brpy/colab-pdf/master/colab_pdf.py\n",
        "from colab_pdf import colab_pdf\n",
        "colab_pdf('Working_GAN(1).ipynb')"
      ]
    }
  ],
  "metadata": {
    "accelerator": "GPU",
    "colab": {
      "collapsed_sections": [],
      "name": "GAN_finale.ipynb",
      "provenance": []
    },
    "kernelspec": {
      "display_name": "Python 3",
      "name": "python3"
    },
    "language_info": {
      "name": "python"
    }
  },
  "nbformat": 4,
  "nbformat_minor": 0
}